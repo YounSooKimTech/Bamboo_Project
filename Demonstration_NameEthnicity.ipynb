{
  "nbformat": 4,
  "nbformat_minor": 0,
  "metadata": {
    "colab": {
      "provenance": [],
      "authorship_tag": "ABX9TyPe+KgL/QMVLDyxswoINwgv",
      "include_colab_link": true
    },
    "kernelspec": {
      "name": "python3",
      "display_name": "Python 3"
    },
    "language_info": {
      "name": "python"
    }
  },
  "cells": [
    {
      "cell_type": "markdown",
      "metadata": {
        "id": "view-in-github",
        "colab_type": "text"
      },
      "source": [
        "<a href=\"https://colab.research.google.com/github/YounSooKimTech/Bamboo_Project/blob/main/Demonstration_NameEthnicity.ipynb\" target=\"_parent\"><img src=\"https://colab.research.google.com/assets/colab-badge.svg\" alt=\"Open In Colab\"/></a>"
      ]
    },
    {
      "cell_type": "code",
      "source": [
        "! git clone https://github.com/name-ethnicity-classifier/name-ethnicity-classifier\n",
        "! cd name-ethnicity-classifier/"
      ],
      "metadata": {
        "colab": {
          "base_uri": "https://localhost:8080/"
        },
        "id": "oxxeOvJEpdi6",
        "outputId": "b03bc3ae-e9d9-4456-e6de-54729a2a0cd8"
      },
      "execution_count": 1,
      "outputs": [
        {
          "output_type": "stream",
          "name": "stdout",
          "text": [
            "Cloning into 'name-ethnicity-classifier'...\n",
            "remote: Enumerating objects: 163, done.\u001b[K\n",
            "remote: Counting objects: 100% (105/105), done.\u001b[K\n",
            "remote: Compressing objects: 100% (72/72), done.\u001b[K\n",
            "remote: Total 163 (delta 45), reused 71 (delta 26), pack-reused 58 (from 1)\u001b[K\n",
            "Receiving objects: 100% (163/163), 25.56 MiB | 16.24 MiB/s, done.\n",
            "Resolving deltas: 100% (55/55), done.\n"
          ]
        }
      ]
    },
    {
      "cell_type": "code",
      "source": [
        "!cd name-ethnicity-classifier && python predict_ethnicity.py -n \"Youn Soo Kim\"  -m 8_groups"
      ],
      "metadata": {
        "colab": {
          "base_uri": "https://localhost:8080/"
        },
        "id": "hUm4SN2JpdbM",
        "outputId": "716786b1-8677-4f3e-f934-0e0c26ba401a"
      },
      "execution_count": 2,
      "outputs": [
        {
          "output_type": "stream",
          "name": "stdout",
          "text": [
            "/content/name-ethnicity-classifier/predict_ethnicity.py:256: FutureWarning: You are using `torch.load` with `weights_only=False` (the current default value), which uses the default pickle module implicitly. It is possible to construct malicious pickle data which will execute arbitrary code during unpickling (See https://github.com/pytorch/pytorch/blob/main/SECURITY.md#untrusted-models for more details). In a future release, the default value for `weights_only` will be flipped to `True`. This limits the functions that could be executed during unpickling. Arbitrary objects will no longer be allowed to be loaded via this mode unless they are explicitly allowlisted by the user via `torch.serialization.add_safe_globals`. We recommend you start setting `weights_only=True` for any use case where you don't have full control of the loaded file. Please open an issue on GitHub for any issues related to this experimental feature.\n",
            "  model.load_state_dict(torch.load(model_path, map_location={\"cuda:0\": \"cpu\"}))\n",
            "\n",
            "name: Youn Soo Kim - predicted ethnicity: Muslim\n"
          ]
        }
      ]
    },
    {
      "cell_type": "code",
      "source": [
        "!cd name-ethnicity-classifier && python predict_ethnicity.py -n \"Abhinav Gupta\"  -m 8_groups"
      ],
      "metadata": {
        "colab": {
          "base_uri": "https://localhost:8080/"
        },
        "id": "n2b7ExLFpqsi",
        "outputId": "8fe491c9-a28e-4b60-c868-9708897aeab9"
      },
      "execution_count": 3,
      "outputs": [
        {
          "output_type": "stream",
          "name": "stdout",
          "text": [
            "/content/name-ethnicity-classifier/predict_ethnicity.py:256: FutureWarning: You are using `torch.load` with `weights_only=False` (the current default value), which uses the default pickle module implicitly. It is possible to construct malicious pickle data which will execute arbitrary code during unpickling (See https://github.com/pytorch/pytorch/blob/main/SECURITY.md#untrusted-models for more details). In a future release, the default value for `weights_only` will be flipped to `True`. This limits the functions that could be executed during unpickling. Arbitrary objects will no longer be allowed to be loaded via this mode unless they are explicitly allowlisted by the user via `torch.serialization.add_safe_globals`. We recommend you start setting `weights_only=True` for any use case where you don't have full control of the loaded file. Please open an issue on GitHub for any issues related to this experimental feature.\n",
            "  model.load_state_dict(torch.load(model_path, map_location={\"cuda:0\": \"cpu\"}))\n",
            "\n",
            "name: Abhinav Gupta - predicted ethnicity: SouthAsian\n"
          ]
        }
      ]
    },
    {
      "cell_type": "code",
      "source": [
        "!cd name-ethnicity-classifier && python predict_ethnicity.py -n \"Mateo Roldan\"  -m 8_groups"
      ],
      "metadata": {
        "colab": {
          "base_uri": "https://localhost:8080/"
        },
        "id": "T7FVKZsLp2vy",
        "outputId": "83a50b02-adb0-4aee-c74d-891924ab66ef"
      },
      "execution_count": 4,
      "outputs": [
        {
          "output_type": "stream",
          "name": "stdout",
          "text": [
            "/content/name-ethnicity-classifier/predict_ethnicity.py:256: FutureWarning: You are using `torch.load` with `weights_only=False` (the current default value), which uses the default pickle module implicitly. It is possible to construct malicious pickle data which will execute arbitrary code during unpickling (See https://github.com/pytorch/pytorch/blob/main/SECURITY.md#untrusted-models for more details). In a future release, the default value for `weights_only` will be flipped to `True`. This limits the functions that could be executed during unpickling. Arbitrary objects will no longer be allowed to be loaded via this mode unless they are explicitly allowlisted by the user via `torch.serialization.add_safe_globals`. We recommend you start setting `weights_only=True` for any use case where you don't have full control of the loaded file. Please open an issue on GitHub for any issues related to this experimental feature.\n",
            "  model.load_state_dict(torch.load(model_path, map_location={\"cuda:0\": \"cpu\"}))\n",
            "\n",
            "name: Mateo Roldan - predicted ethnicity: Hispanic\n"
          ]
        }
      ]
    },
    {
      "cell_type": "code",
      "source": [
        "!cd name-ethnicity-classifier && python predict_ethnicity.py -n \"Jenson Lau\"  -m 8_groups"
      ],
      "metadata": {
        "colab": {
          "base_uri": "https://localhost:8080/"
        },
        "id": "xNogxtL2p-Um",
        "outputId": "6b9e5a32-c5ac-4eb2-d54b-57df2f83718e"
      },
      "execution_count": 5,
      "outputs": [
        {
          "output_type": "stream",
          "name": "stdout",
          "text": [
            "/content/name-ethnicity-classifier/predict_ethnicity.py:256: FutureWarning: You are using `torch.load` with `weights_only=False` (the current default value), which uses the default pickle module implicitly. It is possible to construct malicious pickle data which will execute arbitrary code during unpickling (See https://github.com/pytorch/pytorch/blob/main/SECURITY.md#untrusted-models for more details). In a future release, the default value for `weights_only` will be flipped to `True`. This limits the functions that could be executed during unpickling. Arbitrary objects will no longer be allowed to be loaded via this mode unless they are explicitly allowlisted by the user via `torch.serialization.add_safe_globals`. We recommend you start setting `weights_only=True` for any use case where you don't have full control of the loaded file. Please open an issue on GitHub for any issues related to this experimental feature.\n",
            "  model.load_state_dict(torch.load(model_path, map_location={\"cuda:0\": \"cpu\"}))\n",
            "\n",
            "name: Jenson Lau - predicted ethnicity: Hispanic\n"
          ]
        }
      ]
    },
    {
      "cell_type": "code",
      "source": [
        "!cd name-ethnicity-classifier && python predict_ethnicity.py -n \"Robert Chico\"  -m 8_groups"
      ],
      "metadata": {
        "colab": {
          "base_uri": "https://localhost:8080/"
        },
        "id": "4Z-xmj1nqtyk",
        "outputId": "23f1c03d-35f6-4a42-9917-0f09399531f7"
      },
      "execution_count": 6,
      "outputs": [
        {
          "output_type": "stream",
          "name": "stdout",
          "text": [
            "/content/name-ethnicity-classifier/predict_ethnicity.py:256: FutureWarning: You are using `torch.load` with `weights_only=False` (the current default value), which uses the default pickle module implicitly. It is possible to construct malicious pickle data which will execute arbitrary code during unpickling (See https://github.com/pytorch/pytorch/blob/main/SECURITY.md#untrusted-models for more details). In a future release, the default value for `weights_only` will be flipped to `True`. This limits the functions that could be executed during unpickling. Arbitrary objects will no longer be allowed to be loaded via this mode unless they are explicitly allowlisted by the user via `torch.serialization.add_safe_globals`. We recommend you start setting `weights_only=True` for any use case where you don't have full control of the loaded file. Please open an issue on GitHub for any issues related to this experimental feature.\n",
            "  model.load_state_dict(torch.load(model_path, map_location={\"cuda:0\": \"cpu\"}))\n",
            "\n",
            "name: Robert Chico - predicted ethnicity: African\n"
          ]
        }
      ]
    },
    {
      "cell_type": "code",
      "source": [
        "!cd name-ethnicity-classifier && python predict_ethnicity.py -n \"Vishal Rituraj\"  -m 8_groups"
      ],
      "metadata": {
        "colab": {
          "base_uri": "https://localhost:8080/"
        },
        "id": "jEvHk7rTqtnA",
        "outputId": "08f052ba-e726-4298-d17c-f26fcdaa801e"
      },
      "execution_count": 8,
      "outputs": [
        {
          "output_type": "stream",
          "name": "stdout",
          "text": [
            "/content/name-ethnicity-classifier/predict_ethnicity.py:256: FutureWarning: You are using `torch.load` with `weights_only=False` (the current default value), which uses the default pickle module implicitly. It is possible to construct malicious pickle data which will execute arbitrary code during unpickling (See https://github.com/pytorch/pytorch/blob/main/SECURITY.md#untrusted-models for more details). In a future release, the default value for `weights_only` will be flipped to `True`. This limits the functions that could be executed during unpickling. Arbitrary objects will no longer be allowed to be loaded via this mode unless they are explicitly allowlisted by the user via `torch.serialization.add_safe_globals`. We recommend you start setting `weights_only=True` for any use case where you don't have full control of the loaded file. Please open an issue on GitHub for any issues related to this experimental feature.\n",
            "  model.load_state_dict(torch.load(model_path, map_location={\"cuda:0\": \"cpu\"}))\n",
            "\n",
            "name: Vishal Rituraj - predicted ethnicity: SouthAsian\n"
          ]
        }
      ]
    },
    {
      "cell_type": "code",
      "source": [],
      "metadata": {
        "id": "j9VeG3PUrCF4"
      },
      "execution_count": null,
      "outputs": []
    }
  ]
}
{
  "nbformat": 4,
  "nbformat_minor": 0,
  "metadata": {
    "colab": {
      "provenance": [],
      "authorship_tag": "ABX9TyNfXD+b3MiSmTaK1YcFiCZH",
      "include_colab_link": true
    },
    "kernelspec": {
      "name": "python3",
      "display_name": "Python 3"
    },
    "language_info": {
      "name": "python"
    }
  },
  "cells": [
    {
      "cell_type": "markdown",
      "metadata": {
        "id": "view-in-github",
        "colab_type": "text"
      },
      "source": [
        "<a href=\"https://colab.research.google.com/github/YounSooKimTech/Bamboo_Project/blob/main/Demonstration_NameEthnicity.ipynb\" target=\"_parent\"><img src=\"https://colab.research.google.com/assets/colab-badge.svg\" alt=\"Open In Colab\"/></a>"
      ]
    },
    {
      "cell_type": "code",
      "source": [
        "! git clone https://github.com/name-ethnicity-classifier/name-ethnicity-classifier\n",
        "! cd name-ethnicity-classifier/\n",
        "! pip install gender-guesser"
      ],
      "metadata": {
        "colab": {
          "base_uri": "https://localhost:8080/"
        },
        "id": "oxxeOvJEpdi6",
        "outputId": "30a2f9b1-5a8c-45fa-c431-4b37afeaf2f3"
      },
      "execution_count": 3,
      "outputs": [
        {
          "output_type": "stream",
          "name": "stdout",
          "text": [
            "fatal: destination path 'name-ethnicity-classifier' already exists and is not an empty directory.\n",
            "Collecting gender-guesser\n",
            "  Downloading gender_guesser-0.4.0-py2.py3-none-any.whl.metadata (3.0 kB)\n",
            "Downloading gender_guesser-0.4.0-py2.py3-none-any.whl (379 kB)\n",
            "\u001b[2K   \u001b[90m━━━━━━━━━━━━━━━━━━━━━━━━━━━━━━━━━━━━━━━━\u001b[0m \u001b[32m379.3/379.3 kB\u001b[0m \u001b[31m6.0 MB/s\u001b[0m eta \u001b[36m0:00:00\u001b[0m\n",
            "\u001b[?25hInstalling collected packages: gender-guesser\n",
            "Successfully installed gender-guesser-0.4.0\n"
          ]
        }
      ]
    },
    {
      "cell_type": "code",
      "source": [
        "!cd name-ethnicity-classifier && python predict_ethnicity.py -n \"Abhinav Gupta\"  -m 8_groups"
      ],
      "metadata": {
        "id": "OE-ITu9SO3JZ"
      },
      "execution_count": null,
      "outputs": []
    },
    {
      "cell_type": "markdown",
      "source": [
        "# Others"
      ],
      "metadata": {
        "id": "TJ5SE4bMO-4n"
      }
    },
    {
      "cell_type": "code",
      "source": [
        "!cd name-ethnicity-classifier && python predict_ethnicity.py -n \"Vishal Rituraj\"  -m 8_groups"
      ],
      "metadata": {
        "id": "CbrxUwsLOyRS",
        "outputId": "ce706252-c200-469b-a21f-d28a849ca978",
        "colab": {
          "base_uri": "https://localhost:8080/"
        }
      },
      "execution_count": 20,
      "outputs": [
        {
          "output_type": "stream",
          "name": "stdout",
          "text": [
            "/content/name-ethnicity-classifier/predict_ethnicity.py:256: FutureWarning: You are using `torch.load` with `weights_only=False` (the current default value), which uses the default pickle module implicitly. It is possible to construct malicious pickle data which will execute arbitrary code during unpickling (See https://github.com/pytorch/pytorch/blob/main/SECURITY.md#untrusted-models for more details). In a future release, the default value for `weights_only` will be flipped to `True`. This limits the functions that could be executed during unpickling. Arbitrary objects will no longer be allowed to be loaded via this mode unless they are explicitly allowlisted by the user via `torch.serialization.add_safe_globals`. We recommend you start setting `weights_only=True` for any use case where you don't have full control of the loaded file. Please open an issue on GitHub for any issues related to this experimental feature.\n",
            "  model.load_state_dict(torch.load(model_path, map_location={\"cuda:0\": \"cpu\"}))\n",
            "\n",
            "name: Vishal Rituraj - predicted ethnicity: SouthAsian\n"
          ]
        }
      ]
    },
    {
      "cell_type": "code",
      "source": [
        "import gender_guesser.detector as gender\n",
        "\n",
        "name = \"Vishal\"\n",
        "\n",
        "# Initialize the detector\n",
        "d = gender.Detector(case_sensitive=False)\n",
        "\n",
        "predicted_gender = d.get_gender(name)\n",
        "\n",
        "predicted_gender"
      ],
      "metadata": {
        "id": "IFx5PQfSOrzd",
        "outputId": "800c56a8-2c4b-4a46-dd23-ab31b679c1c7",
        "colab": {
          "base_uri": "https://localhost:8080/",
          "height": 36
        }
      },
      "execution_count": 19,
      "outputs": [
        {
          "output_type": "execute_result",
          "data": {
            "text/plain": [
              "'unknown'"
            ],
            "application/vnd.google.colaboratory.intrinsic+json": {
              "type": "string"
            }
          },
          "metadata": {},
          "execution_count": 19
        }
      ]
    },
    {
      "cell_type": "code",
      "source": [
        "import gender_guesser.detector as gender\n",
        "\n",
        "name = \"Mateo\"\n",
        "\n",
        "# Initialize the detector\n",
        "d = gender.Detector(case_sensitive=False)\n",
        "\n",
        "predicted_gender = d.get_gender(name)\n",
        "\n",
        "predicted_gender"
      ],
      "metadata": {
        "id": "j9VeG3PUrCF4",
        "outputId": "cf2e4650-70f0-4ef3-f755-3c3be0938563",
        "colab": {
          "base_uri": "https://localhost:8080/",
          "height": 36
        }
      },
      "execution_count": 17,
      "outputs": [
        {
          "output_type": "execute_result",
          "data": {
            "text/plain": [
              "'male'"
            ],
            "application/vnd.google.colaboratory.intrinsic+json": {
              "type": "string"
            }
          },
          "metadata": {},
          "execution_count": 17
        }
      ]
    },
    {
      "cell_type": "code",
      "source": [
        "!cd name-ethnicity-classifier && python predict_ethnicity.py -n \"Mateo Roldan\"  -m 8_groups"
      ],
      "metadata": {
        "colab": {
          "base_uri": "https://localhost:8080/"
        },
        "id": "n2b7ExLFpqsi",
        "outputId": "f8fba4cc-9e9d-444a-f27f-27e92fb6dee0"
      },
      "execution_count": 18,
      "outputs": [
        {
          "output_type": "stream",
          "name": "stdout",
          "text": [
            "/content/name-ethnicity-classifier/predict_ethnicity.py:256: FutureWarning: You are using `torch.load` with `weights_only=False` (the current default value), which uses the default pickle module implicitly. It is possible to construct malicious pickle data which will execute arbitrary code during unpickling (See https://github.com/pytorch/pytorch/blob/main/SECURITY.md#untrusted-models for more details). In a future release, the default value for `weights_only` will be flipped to `True`. This limits the functions that could be executed during unpickling. Arbitrary objects will no longer be allowed to be loaded via this mode unless they are explicitly allowlisted by the user via `torch.serialization.add_safe_globals`. We recommend you start setting `weights_only=True` for any use case where you don't have full control of the loaded file. Please open an issue on GitHub for any issues related to this experimental feature.\n",
            "  model.load_state_dict(torch.load(model_path, map_location={\"cuda:0\": \"cpu\"}))\n",
            "\n",
            "name: Mateo Roldan - predicted ethnicity: Hispanic\n"
          ]
        }
      ]
    }
  ]
}